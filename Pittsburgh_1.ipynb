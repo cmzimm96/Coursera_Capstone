{
 "cells": [
  {
   "cell_type": "markdown",
   "metadata": {},
   "source": [
    "# The Battle of Neighbourhoods\n",
    "    \n",
    "    This notebook exists to complete the coursera capstone project assignment."
   ]
  },
  {
   "cell_type": "markdown",
   "metadata": {},
   "source": [
    "#### 1. Introduction / Business Problem"
   ]
  },
  {
   "cell_type": "markdown",
   "metadata": {},
   "source": [
    "    The problem this report aims to solve consists of the following question, \"Which Pittsburgh neighbourhoods could be considered as likely candidates to open a new grocery store location.\" In order to solve this problem, we will focus on factors such as the variety of venues and their locations within the neighbourhoods of Pittsburgh, PA. We will then group the neighbourhoods based on these factors and make observations. The target audience of this report includes the stakeholders of a national grocery chain."
   ]
  }
 ],
 "metadata": {
  "kernelspec": {
   "display_name": "Python 3",
   "language": "python",
   "name": "python3"
  },
  "language_info": {
   "codemirror_mode": {
    "name": "ipython",
    "version": 3
   },
   "file_extension": ".py",
   "mimetype": "text/x-python",
   "name": "python",
   "nbconvert_exporter": "python",
   "pygments_lexer": "ipython3",
   "version": "3.7.4"
  }
 },
 "nbformat": 4,
 "nbformat_minor": 2
}
